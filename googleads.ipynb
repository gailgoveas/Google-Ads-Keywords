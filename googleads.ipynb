{
 "cells": [
  {
   "cell_type": "markdown",
   "id": "c3c11982",
   "metadata": {},
   "source": [
    "### Creating keywords\n",
    "The main objective of this notebook is to generate a strong set of keywords for search engine marketing campaigns that are budget-friendly for a furniture retailer. The aim is to create effective keywords that align with the retailer's promotional strategies and customers' search behavior. The first step is to define a foundational list of action-oriented and value-driven words that are typically associated with consumer interest and intent to purchase."
   ]
  },
  {
   "cell_type": "code",
   "execution_count": 1,
   "id": "07eb9ab9",
   "metadata": {},
   "outputs": [
    {
     "name": "stdout",
     "output_type": "stream",
     "text": [
      "['buy', 'price', 'discount', 'promotion', 'promo', 'shop']\n"
     ]
    }
   ],
   "source": [
    "# List of words to pair with products\n",
    "words = ['buy', 'price', 'discount', 'promotion', 'promo', 'shop']\n",
    "\n",
    "# Print list of words\n",
    "print(words)"
   ]
  },
  {
   "cell_type": "code",
   "execution_count": 2,
   "id": "e14702ff",
   "metadata": {},
   "outputs": [
    {
     "name": "stdout",
     "output_type": "stream",
     "text": [
      "[['sofas', 'sofas buy'],\n",
      " ['sofas', 'buy sofas'],\n",
      " ['sofas', 'sofas price'],\n",
      " ['sofas', 'price sofas'],\n",
      " ['sofas', 'sofas discount'],\n",
      " ['sofas', 'discount sofas'],\n",
      " ['sofas', 'sofas promotion'],\n",
      " ['sofas', 'promotion sofas'],\n",
      " ['sofas', 'sofas promo'],\n",
      " ['sofas', 'promo sofas'],\n",
      " ['sofas', 'sofas shop'],\n",
      " ['sofas', 'shop sofas'],\n",
      " ['convertible sofas', 'convertible sofas buy'],\n",
      " ['convertible sofas', 'buy convertible sofas'],\n",
      " ['convertible sofas', 'convertible sofas price'],\n",
      " ['convertible sofas', 'price convertible sofas'],\n",
      " ['convertible sofas', 'convertible sofas discount'],\n",
      " ['convertible sofas', 'discount convertible sofas'],\n",
      " ['convertible sofas', 'convertible sofas promotion'],\n",
      " ['convertible sofas', 'promotion convertible sofas'],\n",
      " ['convertible sofas', 'convertible sofas promo'],\n",
      " ['convertible sofas', 'promo convertible sofas'],\n",
      " ['convertible sofas', 'convertible sofas shop'],\n",
      " ['convertible sofas', 'shop convertible sofas'],\n",
      " ['love seats', 'love seats buy'],\n",
      " ['love seats', 'buy love seats'],\n",
      " ['love seats', 'love seats price'],\n",
      " ['love seats', 'price love seats'],\n",
      " ['love seats', 'love seats discount'],\n",
      " ['love seats', 'discount love seats'],\n",
      " ['love seats', 'love seats promotion'],\n",
      " ['love seats', 'promotion love seats'],\n",
      " ['love seats', 'love seats promo'],\n",
      " ['love seats', 'promo love seats'],\n",
      " ['love seats', 'love seats shop'],\n",
      " ['love seats', 'shop love seats'],\n",
      " ['recliners', 'recliners buy'],\n",
      " ['recliners', 'buy recliners'],\n",
      " ['recliners', 'recliners price'],\n",
      " ['recliners', 'price recliners'],\n",
      " ['recliners', 'recliners discount'],\n",
      " ['recliners', 'discount recliners'],\n",
      " ['recliners', 'recliners promotion'],\n",
      " ['recliners', 'promotion recliners'],\n",
      " ['recliners', 'recliners promo'],\n",
      " ['recliners', 'promo recliners'],\n",
      " ['recliners', 'recliners shop'],\n",
      " ['recliners', 'shop recliners'],\n",
      " ['sofa beds', 'sofa beds buy'],\n",
      " ['sofa beds', 'buy sofa beds'],\n",
      " ['sofa beds', 'sofa beds price'],\n",
      " ['sofa beds', 'price sofa beds'],\n",
      " ['sofa beds', 'sofa beds discount'],\n",
      " ['sofa beds', 'discount sofa beds'],\n",
      " ['sofa beds', 'sofa beds promotion'],\n",
      " ['sofa beds', 'promotion sofa beds'],\n",
      " ['sofa beds', 'sofa beds promo'],\n",
      " ['sofa beds', 'promo sofa beds'],\n",
      " ['sofa beds', 'sofa beds shop'],\n",
      " ['sofa beds', 'shop sofa beds']]\n"
     ]
    }
   ],
   "source": [
    "products = ['sofas', 'convertible sofas', 'love seats', 'recliners', 'sofa beds']\n",
    "\n",
    "# Create an empty list\n",
    "keywords_list = []\n",
    "\n",
    "# Loop through products\n",
    "for product in products:\n",
    "    # Loop through words\n",
    "    for word in words:\n",
    "        # Append combinations\n",
    "        keywords_list.append([product, product + ' ' + word])\n",
    "        keywords_list.append([product, word + ' ' + product])\n",
    "        \n",
    "# Inspect keyword list\n",
    "from pprint import pprint\n",
    "pprint(keywords_list)"
   ]
  },
  {
   "cell_type": "markdown",
   "id": "1884af28",
   "metadata": {},
   "source": [
    "### Converting the lists into a Dataframe"
   ]
  },
  {
   "cell_type": "code",
   "execution_count": 3,
   "id": "bceb0578",
   "metadata": {},
   "outputs": [
    {
     "data": {
      "text/html": [
       "<div>\n",
       "<style scoped>\n",
       "    .dataframe tbody tr th:only-of-type {\n",
       "        vertical-align: middle;\n",
       "    }\n",
       "\n",
       "    .dataframe tbody tr th {\n",
       "        vertical-align: top;\n",
       "    }\n",
       "\n",
       "    .dataframe thead th {\n",
       "        text-align: right;\n",
       "    }\n",
       "</style>\n",
       "<table border=\"1\" class=\"dataframe\">\n",
       "  <thead>\n",
       "    <tr style=\"text-align: right;\">\n",
       "      <th></th>\n",
       "      <th>0</th>\n",
       "      <th>1</th>\n",
       "    </tr>\n",
       "  </thead>\n",
       "  <tbody>\n",
       "    <tr>\n",
       "      <th>0</th>\n",
       "      <td>sofas</td>\n",
       "      <td>sofas buy</td>\n",
       "    </tr>\n",
       "    <tr>\n",
       "      <th>1</th>\n",
       "      <td>sofas</td>\n",
       "      <td>buy sofas</td>\n",
       "    </tr>\n",
       "    <tr>\n",
       "      <th>2</th>\n",
       "      <td>sofas</td>\n",
       "      <td>sofas price</td>\n",
       "    </tr>\n",
       "    <tr>\n",
       "      <th>3</th>\n",
       "      <td>sofas</td>\n",
       "      <td>price sofas</td>\n",
       "    </tr>\n",
       "    <tr>\n",
       "      <th>4</th>\n",
       "      <td>sofas</td>\n",
       "      <td>sofas discount</td>\n",
       "    </tr>\n",
       "  </tbody>\n",
       "</table>\n",
       "</div>"
      ],
      "text/plain": [
       "       0               1\n",
       "0  sofas       sofas buy\n",
       "1  sofas       buy sofas\n",
       "2  sofas     sofas price\n",
       "3  sofas     price sofas\n",
       "4  sofas  sofas discount"
      ]
     },
     "execution_count": 3,
     "metadata": {},
     "output_type": "execute_result"
    }
   ],
   "source": [
    "# Load library\n",
    "import pandas as pd\n",
    "\n",
    "# Create a DataFrame from list\n",
    "keywords_df = pd.DataFrame(keywords_list)\n",
    "\n",
    "# Print the keywords DataFrame to explore it\n",
    "keywords_df.head()"
   ]
  },
  {
   "cell_type": "code",
   "execution_count": 4,
   "id": "76ccb031",
   "metadata": {},
   "outputs": [],
   "source": [
    "# Rename the columns of the DataFrame\n",
    "keywords_df = keywords_df.rename(columns = {0: 'Ad Group', 1: 'Keyword'})"
   ]
  },
  {
   "cell_type": "code",
   "execution_count": 5,
   "id": "d76a7d70",
   "metadata": {},
   "outputs": [],
   "source": [
    "# Add a campaign column\n",
    "keywords_df['Campaign'] = 'SEM_Sofas'"
   ]
  },
  {
   "cell_type": "markdown",
   "id": "d082f30b",
   "metadata": {},
   "source": [
    "Different types of keyword match exist for online advertising. Exact match matches searches that are exact or very similar to the term, while broad match shows ads on searches that include relevant variations. To stick to a tight budget, it's best to use exact match for all keywords at first."
   ]
  },
  {
   "cell_type": "code",
   "execution_count": 6,
   "id": "9a7948ac",
   "metadata": {},
   "outputs": [],
   "source": [
    "# Adding a criterion type column\n",
    "keywords_df['Criterion Type'] = 'Exact'"
   ]
  },
  {
   "cell_type": "markdown",
   "id": "f17d3436",
   "metadata": {},
   "source": [
    "### Duplicate all the keywords into 'phrase' match\n",
    "The utilization of exact match keywords in advertising campaigns provides a higher degree of control over the process. However, this approach also has certain shortcomings. The search volume for these keywords is usually lower than other match types, and there is a possibility of missing out on high-quality keywords due to the inability to predict all possible search queries. In order to address this issue, phrase match can be employed as a discovery mechanism, which triggers ads for keywords that include exact match keywords with anything before or after them. Subsequently, experimentation with other match types such as modified broad match, broad match, and negative match types can be carried out to improve the visibility and performance of the campaign."
   ]
  },
  {
   "cell_type": "code",
   "execution_count": 7,
   "id": "d272c5f2",
   "metadata": {},
   "outputs": [],
   "source": [
    "# Make a copy of the keywords DataFrame\n",
    "keywords_phrase = keywords_df.copy()\n",
    "\n",
    "# Change criterion type match to phrase\n",
    "keywords_phrase['Criterion Type'] = 'Phrase'\n",
    "\n",
    "# Append the DataFrames\n",
    "keywords_df_final = pd.concat([keywords_df, keywords_phrase], axis = 0)"
   ]
  },
  {
   "cell_type": "markdown",
   "id": "64b02b61",
   "metadata": {},
   "source": [
    "### Saving file\n",
    "To upload a campaign, it needs to be saved as a CSV file. The saved file can then be imported to AdWords editor or BingAds editor. Alternatively, the data can be pasted into the editor. However, saving the data as a CSV file provides easy access to the campaign data. "
   ]
  },
  {
   "cell_type": "code",
   "execution_count": 8,
   "id": "bc886e1f",
   "metadata": {},
   "outputs": [
    {
     "name": "stdout",
     "output_type": "stream",
     "text": [
      "Ad Group           Criterion Type\n",
      "convertible sofas  Exact             12\n",
      "                   Phrase            12\n",
      "love seats         Exact             12\n",
      "                   Phrase            12\n",
      "recliners          Exact             12\n",
      "                   Phrase            12\n",
      "sofa beds          Exact             12\n",
      "                   Phrase            12\n",
      "sofas              Exact             12\n",
      "                   Phrase            12\n",
      "Name: Keyword, dtype: int64\n"
     ]
    }
   ],
   "source": [
    "# Save the final keywords to a CSV file\n",
    "keywords_df_final.to_csv('keywords.csv', index = False)\n",
    "\n",
    "# View a summary of our campaign work\n",
    "summary = keywords_df_final.groupby(['Ad Group', 'Criterion Type'])['Keyword'].count()\n",
    "print(summary)"
   ]
  }
 ],
 "metadata": {
  "kernelspec": {
   "display_name": "Python 3 (ipykernel)",
   "language": "python",
   "name": "python3"
  },
  "language_info": {
   "codemirror_mode": {
    "name": "ipython",
    "version": 3
   },
   "file_extension": ".py",
   "mimetype": "text/x-python",
   "name": "python",
   "nbconvert_exporter": "python",
   "pygments_lexer": "ipython3",
   "version": "3.9.13"
  }
 },
 "nbformat": 4,
 "nbformat_minor": 5
}
